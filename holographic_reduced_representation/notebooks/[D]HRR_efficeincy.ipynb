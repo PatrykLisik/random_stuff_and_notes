{
 "cells": [
  {
   "cell_type": "code",
   "execution_count": 1,
   "metadata": {
    "pycharm": {
     "is_executing": false
    }
   },
   "outputs": [],
   "source": [
    "import numpy as np\n",
    "import matplotlib.pyplot as plt\n",
    "\n",
    "from jupyter_tools import update_progress\n",
    "%matplotlib inline"
   ]
  },
  {
   "cell_type": "markdown",
   "metadata": {},
   "source": [
    "## How memory length impact ability to recall"
   ]
  },
  {
   "cell_type": "code",
   "execution_count": 2,
   "metadata": {},
   "outputs": [],
   "source": [
    "#test\n",
    "def avg_sucessful_recall(mem_len,memories_number,probe_number):\n",
    "    return np.mean([associative_memory_test(mem_len,memories_number) for _ in range(probe_number)])"
   ]
  },
  {
   "cell_type": "code",
   "execution_count": 3,
   "metadata": {},
   "outputs": [],
   "source": [
    "def generate_data(memories_number_iter, memory_len_iter, probe_number):\n",
    "    data = {}\n",
    "    for memories_number in memories_number_iter:\n",
    "        data[memories_number]=[avg_sucessful_recall(mem_len,memories_number,probe_number) for mem_len in memory_len_iter]\n",
    "        update_progress(memories_number/max(memories_number_iter))\n",
    "    return data"
   ]
  },
  {
   "cell_type": "code",
   "execution_count": 4,
   "metadata": {},
   "outputs": [],
   "source": [
    "def plot3(data,memory_len_iter):\n",
    "    plt.figure(figsize=(10, 5))\n",
    "\n",
    "    plt.plot([], [], ' ', label=\"Pairs to remember:\")\n",
    "    plt.xscale(\"log\")\n",
    "    plt.xticks(memory_len_iter, memory_len_iter,rotation='vertical')\n",
    "    plt.xlabel(\"memory lengh\")\n",
    "\n",
    "    plt.title(\"Probability of successful recall\")\n",
    "    plt.ylabel(\"Probability of successful recall\")\n",
    "\n",
    "    for memories_number,successful_recalls in data.items():\n",
    "        plt.plot(memory_len_iter, successful_recalls, label = memories_number)\n",
    "\n",
    "    plt.legend()\n",
    "    plt.tight_layout()\n",
    "    "
   ]
  },
  {
   "cell_type": "code",
   "execution_count": 5,
   "metadata": {},
   "outputs": [
    {
     "ename": "NameError",
     "evalue": "name 'associative_memory_test' is not defined",
     "output_type": "error",
     "traceback": [
      "\u001B[1;31m---------------------------------------------------------------------------\u001B[0m",
      "\u001B[1;31mNameError\u001B[0m                                 Traceback (most recent call last)",
      "\u001B[1;32m<timed exec>\u001B[0m in \u001B[0;36m<module>\u001B[1;34m\u001B[0m\n",
      "\u001B[1;32m<ipython-input-3-34551e6a424c>\u001B[0m in \u001B[0;36mgenerate_data\u001B[1;34m(memories_number_iter, memory_len_iter, probe_number)\u001B[0m\n\u001B[0;32m      2\u001B[0m     \u001B[0mdata\u001B[0m \u001B[1;33m=\u001B[0m \u001B[1;33m{\u001B[0m\u001B[1;33m}\u001B[0m\u001B[1;33m\u001B[0m\u001B[1;33m\u001B[0m\u001B[0m\n\u001B[0;32m      3\u001B[0m     \u001B[1;32mfor\u001B[0m \u001B[0mmemories_number\u001B[0m \u001B[1;32min\u001B[0m \u001B[0mmemories_number_iter\u001B[0m\u001B[1;33m:\u001B[0m\u001B[1;33m\u001B[0m\u001B[1;33m\u001B[0m\u001B[0m\n\u001B[1;32m----> 4\u001B[1;33m         \u001B[0mdata\u001B[0m\u001B[1;33m[\u001B[0m\u001B[0mmemories_number\u001B[0m\u001B[1;33m]\u001B[0m\u001B[1;33m=\u001B[0m\u001B[1;33m[\u001B[0m\u001B[0mavg_sucessful_recall\u001B[0m\u001B[1;33m(\u001B[0m\u001B[0mmem_len\u001B[0m\u001B[1;33m,\u001B[0m\u001B[0mmemories_number\u001B[0m\u001B[1;33m,\u001B[0m\u001B[0mprobe_number\u001B[0m\u001B[1;33m)\u001B[0m \u001B[1;32mfor\u001B[0m \u001B[0mmem_len\u001B[0m \u001B[1;32min\u001B[0m \u001B[0mmemory_len_iter\u001B[0m\u001B[1;33m]\u001B[0m\u001B[1;33m\u001B[0m\u001B[1;33m\u001B[0m\u001B[0m\n\u001B[0m\u001B[0;32m      5\u001B[0m         \u001B[0mupdate_progress\u001B[0m\u001B[1;33m(\u001B[0m\u001B[0mmemories_number\u001B[0m\u001B[1;33m/\u001B[0m\u001B[0mmax\u001B[0m\u001B[1;33m(\u001B[0m\u001B[0mmemories_number_iter\u001B[0m\u001B[1;33m)\u001B[0m\u001B[1;33m)\u001B[0m\u001B[1;33m\u001B[0m\u001B[1;33m\u001B[0m\u001B[0m\n\u001B[0;32m      6\u001B[0m     \u001B[1;32mreturn\u001B[0m \u001B[0mdata\u001B[0m\u001B[1;33m\u001B[0m\u001B[1;33m\u001B[0m\u001B[0m\n",
      "\u001B[1;32m<ipython-input-3-34551e6a424c>\u001B[0m in \u001B[0;36m<listcomp>\u001B[1;34m(.0)\u001B[0m\n\u001B[0;32m      2\u001B[0m     \u001B[0mdata\u001B[0m \u001B[1;33m=\u001B[0m \u001B[1;33m{\u001B[0m\u001B[1;33m}\u001B[0m\u001B[1;33m\u001B[0m\u001B[1;33m\u001B[0m\u001B[0m\n\u001B[0;32m      3\u001B[0m     \u001B[1;32mfor\u001B[0m \u001B[0mmemories_number\u001B[0m \u001B[1;32min\u001B[0m \u001B[0mmemories_number_iter\u001B[0m\u001B[1;33m:\u001B[0m\u001B[1;33m\u001B[0m\u001B[1;33m\u001B[0m\u001B[0m\n\u001B[1;32m----> 4\u001B[1;33m         \u001B[0mdata\u001B[0m\u001B[1;33m[\u001B[0m\u001B[0mmemories_number\u001B[0m\u001B[1;33m]\u001B[0m\u001B[1;33m=\u001B[0m\u001B[1;33m[\u001B[0m\u001B[0mavg_sucessful_recall\u001B[0m\u001B[1;33m(\u001B[0m\u001B[0mmem_len\u001B[0m\u001B[1;33m,\u001B[0m\u001B[0mmemories_number\u001B[0m\u001B[1;33m,\u001B[0m\u001B[0mprobe_number\u001B[0m\u001B[1;33m)\u001B[0m \u001B[1;32mfor\u001B[0m \u001B[0mmem_len\u001B[0m \u001B[1;32min\u001B[0m \u001B[0mmemory_len_iter\u001B[0m\u001B[1;33m]\u001B[0m\u001B[1;33m\u001B[0m\u001B[1;33m\u001B[0m\u001B[0m\n\u001B[0m\u001B[0;32m      5\u001B[0m         \u001B[0mupdate_progress\u001B[0m\u001B[1;33m(\u001B[0m\u001B[0mmemories_number\u001B[0m\u001B[1;33m/\u001B[0m\u001B[0mmax\u001B[0m\u001B[1;33m(\u001B[0m\u001B[0mmemories_number_iter\u001B[0m\u001B[1;33m)\u001B[0m\u001B[1;33m)\u001B[0m\u001B[1;33m\u001B[0m\u001B[1;33m\u001B[0m\u001B[0m\n\u001B[0;32m      6\u001B[0m     \u001B[1;32mreturn\u001B[0m \u001B[0mdata\u001B[0m\u001B[1;33m\u001B[0m\u001B[1;33m\u001B[0m\u001B[0m\n",
      "\u001B[1;32m<ipython-input-2-7a919d025cde>\u001B[0m in \u001B[0;36mavg_sucessful_recall\u001B[1;34m(mem_len, memories_number, probe_number)\u001B[0m\n\u001B[0;32m      1\u001B[0m \u001B[1;32mdef\u001B[0m \u001B[0mavg_sucessful_recall\u001B[0m\u001B[1;33m(\u001B[0m\u001B[0mmem_len\u001B[0m\u001B[1;33m,\u001B[0m\u001B[0mmemories_number\u001B[0m\u001B[1;33m,\u001B[0m\u001B[0mprobe_number\u001B[0m\u001B[1;33m)\u001B[0m\u001B[1;33m:\u001B[0m\u001B[1;33m\u001B[0m\u001B[1;33m\u001B[0m\u001B[0m\n\u001B[1;32m----> 2\u001B[1;33m     \u001B[1;32mreturn\u001B[0m \u001B[0mnp\u001B[0m\u001B[1;33m.\u001B[0m\u001B[0mmean\u001B[0m\u001B[1;33m(\u001B[0m\u001B[1;33m[\u001B[0m\u001B[0massociative_memory_test\u001B[0m\u001B[1;33m(\u001B[0m\u001B[0mmem_len\u001B[0m\u001B[1;33m,\u001B[0m\u001B[0mmemories_number\u001B[0m\u001B[1;33m)\u001B[0m \u001B[1;32mfor\u001B[0m \u001B[0m_\u001B[0m \u001B[1;32min\u001B[0m \u001B[0mrange\u001B[0m\u001B[1;33m(\u001B[0m\u001B[0mprobe_number\u001B[0m\u001B[1;33m)\u001B[0m\u001B[1;33m]\u001B[0m\u001B[1;33m)\u001B[0m\u001B[1;33m\u001B[0m\u001B[1;33m\u001B[0m\u001B[0m\n\u001B[0m",
      "\u001B[1;32m<ipython-input-2-7a919d025cde>\u001B[0m in \u001B[0;36m<listcomp>\u001B[1;34m(.0)\u001B[0m\n\u001B[0;32m      1\u001B[0m \u001B[1;32mdef\u001B[0m \u001B[0mavg_sucessful_recall\u001B[0m\u001B[1;33m(\u001B[0m\u001B[0mmem_len\u001B[0m\u001B[1;33m,\u001B[0m\u001B[0mmemories_number\u001B[0m\u001B[1;33m,\u001B[0m\u001B[0mprobe_number\u001B[0m\u001B[1;33m)\u001B[0m\u001B[1;33m:\u001B[0m\u001B[1;33m\u001B[0m\u001B[1;33m\u001B[0m\u001B[0m\n\u001B[1;32m----> 2\u001B[1;33m     \u001B[1;32mreturn\u001B[0m \u001B[0mnp\u001B[0m\u001B[1;33m.\u001B[0m\u001B[0mmean\u001B[0m\u001B[1;33m(\u001B[0m\u001B[1;33m[\u001B[0m\u001B[0massociative_memory_test\u001B[0m\u001B[1;33m(\u001B[0m\u001B[0mmem_len\u001B[0m\u001B[1;33m,\u001B[0m\u001B[0mmemories_number\u001B[0m\u001B[1;33m)\u001B[0m \u001B[1;32mfor\u001B[0m \u001B[0m_\u001B[0m \u001B[1;32min\u001B[0m \u001B[0mrange\u001B[0m\u001B[1;33m(\u001B[0m\u001B[0mprobe_number\u001B[0m\u001B[1;33m)\u001B[0m\u001B[1;33m]\u001B[0m\u001B[1;33m)\u001B[0m\u001B[1;33m\u001B[0m\u001B[1;33m\u001B[0m\u001B[0m\n\u001B[0m",
      "\u001B[1;31mNameError\u001B[0m: name 'associative_memory_test' is not defined"
     ]
    }
   ],
   "source": [
    "%%time\n",
    "probe_number = 100\n",
    "memories_number_iter = [1,2,4,6,8]\n",
    "memory_len_iter = [64,128,256,512]\n",
    "\n",
    "data1 = generate_data(memories_number_iter, memory_len_iter, probe_number)"
   ]
  },
  {
   "cell_type": "code",
   "execution_count": 6,
   "metadata": {},
   "outputs": [
    {
     "ename": "NameError",
     "evalue": "name 'data1' is not defined",
     "output_type": "error",
     "traceback": [
      "\u001B[1;31m---------------------------------------------------------------------------\u001B[0m",
      "\u001B[1;31mNameError\u001B[0m                                 Traceback (most recent call last)",
      "\u001B[1;32m<ipython-input-6-68bb7f032753>\u001B[0m in \u001B[0;36m<module>\u001B[1;34m\u001B[0m\n\u001B[1;32m----> 1\u001B[1;33m \u001B[0mplot3\u001B[0m\u001B[1;33m(\u001B[0m\u001B[0mdata1\u001B[0m\u001B[1;33m,\u001B[0m\u001B[0mmemory_len_iter\u001B[0m\u001B[1;33m)\u001B[0m\u001B[1;33m\u001B[0m\u001B[1;33m\u001B[0m\u001B[0m\n\u001B[0m",
      "\u001B[1;31mNameError\u001B[0m: name 'data1' is not defined"
     ]
    }
   ],
   "source": [
    "plot3(data1,memory_len_iter)"
   ]
  },
  {
   "cell_type": "code",
   "execution_count": null,
   "metadata": {},
   "outputs": [],
   "source": []
  },
  {
   "cell_type": "code",
   "execution_count": null,
   "metadata": {},
   "outputs": [],
   "source": [
    "%%time\n",
    "probe_number = 50\n",
    "memories_number_iter = [10,20,30,40]\n",
    "memory_len_iter = [64,128,256,512,1024]\n",
    "\n",
    "data2 = generate_data(memories_number_iter, memory_len_iter, probe_number)"
   ]
  },
  {
   "cell_type": "code",
   "execution_count": null,
   "metadata": {},
   "outputs": [],
   "source": [
    "plot3(data2,memory_len_iter)"
   ]
  }
 ],
 "metadata": {
  "kernelspec": {
   "display_name": "Python 3 (ipykernel)",
   "language": "python",
   "name": "python3"
  },
  "language_info": {
   "codemirror_mode": {
    "name": "ipython",
    "version": 3
   },
   "file_extension": ".py",
   "mimetype": "text/x-python",
   "name": "python",
   "nbconvert_exporter": "python",
   "pygments_lexer": "ipython3",
   "version": "3.9.6"
  }
 },
 "nbformat": 4,
 "nbformat_minor": 2
}